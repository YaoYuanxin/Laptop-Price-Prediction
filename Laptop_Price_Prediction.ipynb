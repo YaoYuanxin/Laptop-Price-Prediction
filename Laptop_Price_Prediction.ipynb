{
  "nbformat": 4,
  "nbformat_minor": 0,
  "metadata": {
    "colab": {
      "provenance": [],
      "collapsed_sections": [
        "l6HUoYrjgHcJ"
      ],
      "toc_visible": true,
      "mount_file_id": "1P9LmMRaJWjYMlprotbdlNrkjILm7Zd78",
      "authorship_tag": "ABX9TyM1Mv8+QiO5rEnkEKJNKBi6",
      "include_colab_link": true
    },
    "kernelspec": {
      "name": "python3",
      "display_name": "Python 3"
    },
    "language_info": {
      "name": "python"
    }
  },
  "cells": [
    {
      "cell_type": "markdown",
      "metadata": {
        "id": "view-in-github",
        "colab_type": "text"
      },
      "source": [
        "<a href=\"https://colab.research.google.com/github/YaoYuanxin/Laptop-Price-Prediction/blob/main/Laptop_Price_Prediction.ipynb\" target=\"_parent\"><img src=\"https://colab.research.google.com/assets/colab-badge.svg\" alt=\"Open In Colab\"/></a>"
      ]
    },
    {
      "cell_type": "markdown",
      "source": [
        "# Problem Statement\n",
        "The objective of this project is to tackle a regression problem: predicting the price of a laptop based on a variety of features.\n",
        "\n",
        "We will construct predictive models using both classical machine learning techniques and deep learning methods. To assess model performance, we will utilize RMSE as the evaluation metric."
      ],
      "metadata": {
        "id": "4aXtgpWQcSaM"
      }
    },
    {
      "cell_type": "markdown",
      "source": [
        "# Requirements"
      ],
      "metadata": {
        "id": "6R7_40x5dlem"
      }
    },
    {
      "cell_type": "code",
      "source": [
        "import pandas as pd\n",
        "import numpy as np\n",
        "from statsmodels.stats.outliers_influence import variance_inflation_factor\n",
        "\n",
        "from sklearn.linear_model import LinearRegression\n",
        "from sklearn.metrics import mean_squared_error \n",
        "from sklearn.tree import DecisionTreeRegressor\n",
        "from sklearn.ensemble import RandomForestRegressor\n",
        "from sklearn.ensemble import GradientBoostingRegressor\n",
        "from sklearn.ensemble import ExtraTreesRegressor\n",
        "from sklearn.ensemble import VotingRegressor\n",
        "from sklearn import linear_model\n",
        "from sklearn.neural_network import MLPRegressor\n",
        "\n",
        "from sklearn.pipeline import make_pipeline\n",
        "from sklearn.preprocessing import StandardScaler, MaxAbsScaler\n",
        "\n",
        "import matplotlib.pyplot as plt\n",
        "from sklearn import tree\n",
        "import seaborn as sns"
      ],
      "metadata": {
        "id": "OWeymA7WdnDz"
      },
      "execution_count": null,
      "outputs": []
    },
    {
      "cell_type": "markdown",
      "source": [
        "# Explorative Data Analysis and Preprocessing"
      ],
      "metadata": {
        "id": "sMTFZYHedcjv"
      }
    },
    {
      "cell_type": "code",
      "source": [
        "train_df = pd.read_json('/content/drive/MyDrive/Data Projects/Laptop Prediction Project/datasets/train_dataset.json',orient = 'columns')\n",
        "test_df = pd.read_json('/content/drive/MyDrive/Data Projects/Laptop Prediction Project/datasets/test_dataset.json',orient = 'columns')\n",
        "val_df = pd.read_json('/content/drive/MyDrive/Data Projects/Laptop Prediction Project/datasets/val_dataset.json',orient = 'columns')\n",
        "\n",
        "df = pd.concat([train_df, val_df, test_df], axis=0)\n",
        "df.head(5)"
      ],
      "metadata": {
        "id": "PQqgA0KWdfpl",
        "colab": {
          "base_uri": "https://localhost:8080/",
          "height": 582
        },
        "outputId": "87ef02f6-f68e-4810-d995-ca3c796a60f1"
      },
      "execution_count": null,
      "outputs": [
        {
          "output_type": "execute_result",
          "data": {
            "text/plain": [
              "         graphic card type                               communications  \\\n",
              "7233    dedicated graphics            [bluetooth, lan 10/100/1000 mbps]   \n",
              "5845    dedicated graphics          [wi-fi, bluetooth, lan 10/100 mbps]   \n",
              "10303                 None  [bluetooth, nfc (near field communication)]   \n",
              "10423                 None                                         None   \n",
              "5897   integrated graphics                           [wi-fi, bluetooth]   \n",
              "\n",
              "      resolution (px) CPU cores RAM size   operating system drive type  \\\n",
              "7233      1920 x 1080         4    32 gb        [no system]  ssd + hdd   \n",
              "5845       1366 x 768         4     8 gb  [windows 10 home]        ssd   \n",
              "10303     1920 x 1080         2     8 gb  [windows 10 home]        hdd   \n",
              "10423            None         2     None               None       None   \n",
              "5897      2560 x 1440         4     8 gb  [windows 10 home]        ssd   \n",
              "\n",
              "                                           input devices  \\\n",
              "7233   [keyboard, touchpad, illuminated keyboard, num...   \n",
              "5845              [keyboard, touchpad, numeric keyboard]   \n",
              "10303                                               None   \n",
              "10423                                               None   \n",
              "5897          [keyboard, touchpad, illuminated keyboard]   \n",
              "\n",
              "                                           multimedia RAM type  \\\n",
              "7233   [SD card reader, camera, speakers, microphone]     ddr4   \n",
              "5845   [SD card reader, camera, speakers, microphone]     ddr3   \n",
              "10303                                [SD card reader]     ddr4   \n",
              "10423                                            None     None   \n",
              "5897   [SD card reader, camera, speakers, microphone]     ddr4   \n",
              "\n",
              "       CPU clock speed (GHz)      CPU model state  drive memory size (GB)  \\\n",
              "7233                     2.6  intel core i7   new                  1250.0   \n",
              "5845                     2.4  intel core i7   new                   256.0   \n",
              "10303                    1.6  intel core i7   new                  1000.0   \n",
              "10423                    NaN           None   new                     NaN   \n",
              "5897                     1.2      other CPU   new                   256.0   \n",
              "\n",
              "                warranty  screen size  buynow_price  \n",
              "7233   producer warranty  17\" - 17.9\"        4999.0  \n",
              "5845     seller warranty  15\" - 15.9\"        2649.0  \n",
              "10303  producer warranty  15\" - 15.9\"        3399.0  \n",
              "10423  producer warranty         None        1599.0  \n",
              "5897   producer warranty  12\" - 12.9\"        4499.0  "
            ],
            "text/html": [
              "\n",
              "  <div id=\"df-ccea0deb-125a-44a4-bbe5-8d0a65080a1a\">\n",
              "    <div class=\"colab-df-container\">\n",
              "      <div>\n",
              "<style scoped>\n",
              "    .dataframe tbody tr th:only-of-type {\n",
              "        vertical-align: middle;\n",
              "    }\n",
              "\n",
              "    .dataframe tbody tr th {\n",
              "        vertical-align: top;\n",
              "    }\n",
              "\n",
              "    .dataframe thead th {\n",
              "        text-align: right;\n",
              "    }\n",
              "</style>\n",
              "<table border=\"1\" class=\"dataframe\">\n",
              "  <thead>\n",
              "    <tr style=\"text-align: right;\">\n",
              "      <th></th>\n",
              "      <th>graphic card type</th>\n",
              "      <th>communications</th>\n",
              "      <th>resolution (px)</th>\n",
              "      <th>CPU cores</th>\n",
              "      <th>RAM size</th>\n",
              "      <th>operating system</th>\n",
              "      <th>drive type</th>\n",
              "      <th>input devices</th>\n",
              "      <th>multimedia</th>\n",
              "      <th>RAM type</th>\n",
              "      <th>CPU clock speed (GHz)</th>\n",
              "      <th>CPU model</th>\n",
              "      <th>state</th>\n",
              "      <th>drive memory size (GB)</th>\n",
              "      <th>warranty</th>\n",
              "      <th>screen size</th>\n",
              "      <th>buynow_price</th>\n",
              "    </tr>\n",
              "  </thead>\n",
              "  <tbody>\n",
              "    <tr>\n",
              "      <th>7233</th>\n",
              "      <td>dedicated graphics</td>\n",
              "      <td>[bluetooth, lan 10/100/1000 mbps]</td>\n",
              "      <td>1920 x 1080</td>\n",
              "      <td>4</td>\n",
              "      <td>32 gb</td>\n",
              "      <td>[no system]</td>\n",
              "      <td>ssd + hdd</td>\n",
              "      <td>[keyboard, touchpad, illuminated keyboard, num...</td>\n",
              "      <td>[SD card reader, camera, speakers, microphone]</td>\n",
              "      <td>ddr4</td>\n",
              "      <td>2.6</td>\n",
              "      <td>intel core i7</td>\n",
              "      <td>new</td>\n",
              "      <td>1250.0</td>\n",
              "      <td>producer warranty</td>\n",
              "      <td>17\" - 17.9\"</td>\n",
              "      <td>4999.0</td>\n",
              "    </tr>\n",
              "    <tr>\n",
              "      <th>5845</th>\n",
              "      <td>dedicated graphics</td>\n",
              "      <td>[wi-fi, bluetooth, lan 10/100 mbps]</td>\n",
              "      <td>1366 x 768</td>\n",
              "      <td>4</td>\n",
              "      <td>8 gb</td>\n",
              "      <td>[windows 10 home]</td>\n",
              "      <td>ssd</td>\n",
              "      <td>[keyboard, touchpad, numeric keyboard]</td>\n",
              "      <td>[SD card reader, camera, speakers, microphone]</td>\n",
              "      <td>ddr3</td>\n",
              "      <td>2.4</td>\n",
              "      <td>intel core i7</td>\n",
              "      <td>new</td>\n",
              "      <td>256.0</td>\n",
              "      <td>seller warranty</td>\n",
              "      <td>15\" - 15.9\"</td>\n",
              "      <td>2649.0</td>\n",
              "    </tr>\n",
              "    <tr>\n",
              "      <th>10303</th>\n",
              "      <td>None</td>\n",
              "      <td>[bluetooth, nfc (near field communication)]</td>\n",
              "      <td>1920 x 1080</td>\n",
              "      <td>2</td>\n",
              "      <td>8 gb</td>\n",
              "      <td>[windows 10 home]</td>\n",
              "      <td>hdd</td>\n",
              "      <td>None</td>\n",
              "      <td>[SD card reader]</td>\n",
              "      <td>ddr4</td>\n",
              "      <td>1.6</td>\n",
              "      <td>intel core i7</td>\n",
              "      <td>new</td>\n",
              "      <td>1000.0</td>\n",
              "      <td>producer warranty</td>\n",
              "      <td>15\" - 15.9\"</td>\n",
              "      <td>3399.0</td>\n",
              "    </tr>\n",
              "    <tr>\n",
              "      <th>10423</th>\n",
              "      <td>None</td>\n",
              "      <td>None</td>\n",
              "      <td>None</td>\n",
              "      <td>2</td>\n",
              "      <td>None</td>\n",
              "      <td>None</td>\n",
              "      <td>None</td>\n",
              "      <td>None</td>\n",
              "      <td>None</td>\n",
              "      <td>None</td>\n",
              "      <td>NaN</td>\n",
              "      <td>None</td>\n",
              "      <td>new</td>\n",
              "      <td>NaN</td>\n",
              "      <td>producer warranty</td>\n",
              "      <td>None</td>\n",
              "      <td>1599.0</td>\n",
              "    </tr>\n",
              "    <tr>\n",
              "      <th>5897</th>\n",
              "      <td>integrated graphics</td>\n",
              "      <td>[wi-fi, bluetooth]</td>\n",
              "      <td>2560 x 1440</td>\n",
              "      <td>4</td>\n",
              "      <td>8 gb</td>\n",
              "      <td>[windows 10 home]</td>\n",
              "      <td>ssd</td>\n",
              "      <td>[keyboard, touchpad, illuminated keyboard]</td>\n",
              "      <td>[SD card reader, camera, speakers, microphone]</td>\n",
              "      <td>ddr4</td>\n",
              "      <td>1.2</td>\n",
              "      <td>other CPU</td>\n",
              "      <td>new</td>\n",
              "      <td>256.0</td>\n",
              "      <td>producer warranty</td>\n",
              "      <td>12\" - 12.9\"</td>\n",
              "      <td>4499.0</td>\n",
              "    </tr>\n",
              "  </tbody>\n",
              "</table>\n",
              "</div>\n",
              "      <button class=\"colab-df-convert\" onclick=\"convertToInteractive('df-ccea0deb-125a-44a4-bbe5-8d0a65080a1a')\"\n",
              "              title=\"Convert this dataframe to an interactive table.\"\n",
              "              style=\"display:none;\">\n",
              "        \n",
              "  <svg xmlns=\"http://www.w3.org/2000/svg\" height=\"24px\"viewBox=\"0 0 24 24\"\n",
              "       width=\"24px\">\n",
              "    <path d=\"M0 0h24v24H0V0z\" fill=\"none\"/>\n",
              "    <path d=\"M18.56 5.44l.94 2.06.94-2.06 2.06-.94-2.06-.94-.94-2.06-.94 2.06-2.06.94zm-11 1L8.5 8.5l.94-2.06 2.06-.94-2.06-.94L8.5 2.5l-.94 2.06-2.06.94zm10 10l.94 2.06.94-2.06 2.06-.94-2.06-.94-.94-2.06-.94 2.06-2.06.94z\"/><path d=\"M17.41 7.96l-1.37-1.37c-.4-.4-.92-.59-1.43-.59-.52 0-1.04.2-1.43.59L10.3 9.45l-7.72 7.72c-.78.78-.78 2.05 0 2.83L4 21.41c.39.39.9.59 1.41.59.51 0 1.02-.2 1.41-.59l7.78-7.78 2.81-2.81c.8-.78.8-2.07 0-2.86zM5.41 20L4 18.59l7.72-7.72 1.47 1.35L5.41 20z\"/>\n",
              "  </svg>\n",
              "      </button>\n",
              "      \n",
              "  <style>\n",
              "    .colab-df-container {\n",
              "      display:flex;\n",
              "      flex-wrap:wrap;\n",
              "      gap: 12px;\n",
              "    }\n",
              "\n",
              "    .colab-df-convert {\n",
              "      background-color: #E8F0FE;\n",
              "      border: none;\n",
              "      border-radius: 50%;\n",
              "      cursor: pointer;\n",
              "      display: none;\n",
              "      fill: #1967D2;\n",
              "      height: 32px;\n",
              "      padding: 0 0 0 0;\n",
              "      width: 32px;\n",
              "    }\n",
              "\n",
              "    .colab-df-convert:hover {\n",
              "      background-color: #E2EBFA;\n",
              "      box-shadow: 0px 1px 2px rgba(60, 64, 67, 0.3), 0px 1px 3px 1px rgba(60, 64, 67, 0.15);\n",
              "      fill: #174EA6;\n",
              "    }\n",
              "\n",
              "    [theme=dark] .colab-df-convert {\n",
              "      background-color: #3B4455;\n",
              "      fill: #D2E3FC;\n",
              "    }\n",
              "\n",
              "    [theme=dark] .colab-df-convert:hover {\n",
              "      background-color: #434B5C;\n",
              "      box-shadow: 0px 1px 3px 1px rgba(0, 0, 0, 0.15);\n",
              "      filter: drop-shadow(0px 1px 2px rgba(0, 0, 0, 0.3));\n",
              "      fill: #FFFFFF;\n",
              "    }\n",
              "  </style>\n",
              "\n",
              "      <script>\n",
              "        const buttonEl =\n",
              "          document.querySelector('#df-ccea0deb-125a-44a4-bbe5-8d0a65080a1a button.colab-df-convert');\n",
              "        buttonEl.style.display =\n",
              "          google.colab.kernel.accessAllowed ? 'block' : 'none';\n",
              "\n",
              "        async function convertToInteractive(key) {\n",
              "          const element = document.querySelector('#df-ccea0deb-125a-44a4-bbe5-8d0a65080a1a');\n",
              "          const dataTable =\n",
              "            await google.colab.kernel.invokeFunction('convertToInteractive',\n",
              "                                                     [key], {});\n",
              "          if (!dataTable) return;\n",
              "\n",
              "          const docLinkHtml = 'Like what you see? Visit the ' +\n",
              "            '<a target=\"_blank\" href=https://colab.research.google.com/notebooks/data_table.ipynb>data table notebook</a>'\n",
              "            + ' to learn more about interactive tables.';\n",
              "          element.innerHTML = '';\n",
              "          dataTable['output_type'] = 'display_data';\n",
              "          await google.colab.output.renderOutput(dataTable, element);\n",
              "          const docLink = document.createElement('div');\n",
              "          docLink.innerHTML = docLinkHtml;\n",
              "          element.appendChild(docLink);\n",
              "        }\n",
              "      </script>\n",
              "    </div>\n",
              "  </div>\n",
              "  "
            ]
          },
          "metadata": {},
          "execution_count": 15
        }
      ]
    },
    {
      "cell_type": "markdown",
      "source": [
        "## Observe unique values of each column"
      ],
      "metadata": {
        "id": "e_A9YkbGfplQ"
      }
    },
    {
      "cell_type": "code",
      "source": [
        "for col in df.columns.to_list():\n",
        "    if type(df[col][0]) != list:\n",
        "        print(f\"unique values of {col} are: \", df[col].unique())\n",
        "        print(\"-----------------------------------------------------\")"
      ],
      "metadata": {
        "colab": {
          "base_uri": "https://localhost:8080/"
        },
        "id": "h-XC7F3Qe19x",
        "outputId": "d739714c-13a3-451c-aee2-63c9de3616d8"
      },
      "execution_count": null,
      "outputs": [
        {
          "output_type": "stream",
          "name": "stdout",
          "text": [
            "unique values of graphic card type are:  ['dedicated graphics' None 'integrated graphics']\n",
            "-----------------------------------------------------\n",
            "unique values of resolution (px) are:  ['1920 x 1080' '1366 x 768' None '2560 x 1440' '1600 x 900' '3840 x 2160'\n",
            " 'other' '1920 x 1280' '1280 x 800' '3200 x 1800' '2880 x 1620'\n",
            " '2160 x 1440' '1920 x 1200' '2560 x 1600']\n",
            "-----------------------------------------------------\n",
            "unique values of CPU cores are:  ['4' '2' 'not applicable' '3' '1' '8' '6']\n",
            "-----------------------------------------------------\n",
            "unique values of RAM size are:  ['32 gb' '8 gb' None '12 gb' '4 gb' '16 gb' '2 gb' '20 gb' '6 gb' '64 gb'\n",
            " '256 mb' '24 gb']\n",
            "-----------------------------------------------------\n",
            "unique values of drive type are:  ['ssd + hdd' 'ssd' 'hdd' None 'emmc' 'hybrid']\n",
            "-----------------------------------------------------\n",
            "unique values of RAM type are:  ['ddr4' 'ddr3' None 'ddr3l']\n",
            "-----------------------------------------------------\n",
            "unique values of CPU clock speed (GHz) are:  [2.6  2.4  1.6   nan 1.2  2.   2.5  2.8  1.9  1.1  2.3  2.24 1.8  3.\n",
            " 1.7  2.1  2.7  1.33 2.2  3.9  2.16 2.9  1.83 0.9  1.   1.44 1.58 1.35\n",
            " 3.1  0.8  3.5  1.3  1.5  1.86 3.3  1.15 1.68 1.4  2.66 2.13 1.66 1.46\n",
            " 2.56 3.8  3.6  0.  ]\n",
            "-----------------------------------------------------\n",
            "unique values of CPU model are:  ['intel core i7' None 'other CPU' 'intel core i3' 'intel core i5'\n",
            " 'intel celeron dual-core' 'intel pentium 4' 'intel celeron quad core '\n",
            " 'amd a6' 'intel celeron ' 'intel pentium dual-core' 'amd a12' 'amd a8'\n",
            " 'intel pentium quad-core ' 'intel core m' 'amd a4' 'intel celeron m'\n",
            " 'amd a10' 'amd e1']\n",
            "-----------------------------------------------------\n",
            "unique values of state are:  ['new']\n",
            "-----------------------------------------------------\n",
            "unique values of drive memory size (GB) are:  [1.250e+03 2.560e+02 1.000e+03       nan 5.000e+02 1.128e+03 1.240e+03\n",
            " 1.200e+02 1.256e+03 4.800e+02 2.500e+02 1.280e+02 2.400e+02 3.200e+01\n",
            " 9.600e+02 6.400e+01 1.000e+00 1.120e+03 2.128e+03 6.800e+01 5.120e+02\n",
            " 1.512e+03 1.500e+03 2.000e+03 1.628e+03 2.256e+03 1.800e+02 2.512e+03\n",
            " 1.024e+03 2.500e+03 1.756e+03 6.280e+02 5.080e+02 1.520e+02 3.200e+02\n",
            " 1.012e+03 7.560e+02 1.600e+02 2.480e+03 4.880e+02 8.000e+00 2.048e+03\n",
            " 0.000e+00 1.000e+02 1.008e+03 9.900e+02 2.120e+03 2.480e+02 7.500e+02\n",
            " 6.080e+02 4.960e+02 2.960e+03 1.920e+02 1.525e+03 3.680e+02 3.840e+02\n",
            " 7.400e+02 5.250e+02 1.480e+03 5.160e+02 3.640e+02 2.720e+02 1.280e+03\n",
            " 1.728e+03 1.726e+03 5.240e+02 7.680e+02 2.250e+03 1.000e+04 6.000e+01\n",
            " 1.275e+03 2.750e+02 9.800e+02]\n",
            "-----------------------------------------------------\n",
            "unique values of warranty are:  ['producer warranty' 'seller warranty' 'no warranty']\n",
            "-----------------------------------------------------\n",
            "unique values of screen size are:  ['17\" - 17.9\"' '15\" - 15.9\"' None '12\" - 12.9\"' '14\" - 14.9\"'\n",
            " '13\" - 13.9\"' '11.9\" and less']\n",
            "-----------------------------------------------------\n",
            "unique values of buynow_price are:  [4999.   2649.   3399.   ... 2925.36 8678.   4722.  ]\n",
            "-----------------------------------------------------\n"
          ]
        }
      ]
    },
    {
      "cell_type": "markdown",
      "source": [
        "## Feature Preprocessing"
      ],
      "metadata": {
        "id": "xLCbInRdiIQS"
      }
    },
    {
      "cell_type": "markdown",
      "source": [
        "### Remove null values and `state` column"
      ],
      "metadata": {
        "id": "fwlP74ezewH8"
      }
    },
    {
      "cell_type": "code",
      "source": [
        "df = df.drop(columns=['state'])\n",
        "df = df.dropna()"
      ],
      "metadata": {
        "id": "67neyUVdf3jQ"
      },
      "execution_count": null,
      "outputs": []
    },
    {
      "cell_type": "markdown",
      "source": [
        "### `communication` column contains multiple attributes, split it into different columns"
      ],
      "metadata": {
        "id": "l6HUoYrjgHcJ"
      }
    },
    {
      "cell_type": "code",
      "source": [
        "compact_cols = ['communications', 'input devices', 'multimedia']\n",
        "def get_unique_vals(col_name):\n",
        "    #to_list function splits each comma separated value to a new column   \n",
        "    col_df = pd.DataFrame(df[col_name].to_list())\n",
        "    unique_vals = list()\n",
        "    for col in col_df.columns.to_list():\n",
        "        unique_vals += [val for val in list(col_df[col].unique()) if (val not in unique_vals and val is not None) ]\n",
        "\n",
        "    return unique_vals"
      ],
      "metadata": {
        "id": "53fnTu7sgm8q"
      },
      "execution_count": null,
      "outputs": []
    },
    {
      "cell_type": "code",
      "source": [
        "compact_dict = {col: [] for  col in compact_cols}\n",
        "\n",
        "# apply get_unique_vals to all compact_cols\n",
        "# search through the dataframe and add a feature to unique_vals list when it is not included before\n",
        "for col in compact_cols:\n",
        "    compact_dict[col] = get_unique_vals(col)"
      ],
      "metadata": {
        "id": "JBajjcBAhAyB"
      },
      "execution_count": null,
      "outputs": []
    },
    {
      "cell_type": "code",
      "source": [
        "compact_dict"
      ],
      "metadata": {
        "colab": {
          "base_uri": "https://localhost:8080/"
        },
        "id": "-yJuoubbhFxr",
        "outputId": "a3c81e5d-e43b-4fe9-c133-794de592e437"
      },
      "execution_count": null,
      "outputs": [
        {
          "output_type": "execute_result",
          "data": {
            "text/plain": [
              "{'communications': ['bluetooth',\n",
              "  'wi-fi',\n",
              "  'wi-fi 802.11 b/g/n/ac',\n",
              "  'lan 10/100 mbps',\n",
              "  'wi-fi 802.11 a/b/g/n/ac',\n",
              "  'nfc (near field communication)',\n",
              "  'lan 10/100/1000 mbps',\n",
              "  'gps',\n",
              "  'wi-fi 802.11 b/g/n',\n",
              "  'intel wireless display (widi)',\n",
              "  'wi-fi 802.11 a/b/g/n',\n",
              "  'modem 3g (wwan)',\n",
              "  'modem 4g (lte)'],\n",
              " 'input devices': ['keyboard',\n",
              "  'touchpad',\n",
              "  'illuminated keyboard',\n",
              "  'numeric keyboard'],\n",
              " 'multimedia': ['SD card reader', 'camera', 'microphone', 'speakers']}"
            ]
          },
          "metadata": {},
          "execution_count": 23
        }
      ]
    },
    {
      "cell_type": "markdown",
      "source": [
        "### `RAM size` column"
      ],
      "metadata": {
        "id": "ll1_vsg3hVVW"
      }
    },
    {
      "cell_type": "code",
      "source": [
        "# transform string value to integer by excluding gb and mb\n",
        "df['RAM size'] = df['RAM size'].str.replace(' gb','',regex=True)\n",
        "\n",
        "# when regex=False, replace requires exact match\n",
        "df['RAM size'] = df['RAM size'].str.replace('256 mb','0.256',regex=False)"
      ],
      "metadata": {
        "id": "d3r1BFwAhk9A"
      },
      "execution_count": null,
      "outputs": []
    },
    {
      "cell_type": "markdown",
      "source": [
        "### `screen size` column"
      ],
      "metadata": {
        "id": "BMWjpjYOhvJ5"
      }
    },
    {
      "cell_type": "code",
      "source": [
        "df['screen size'] = df['screen size'].apply(lambda x: int(str(x)[:2]))"
      ],
      "metadata": {
        "id": "6IZuR58RhurE"
      },
      "execution_count": null,
      "outputs": []
    },
    {
      "cell_type": "markdown",
      "source": [
        "### `resolution` column"
      ],
      "metadata": {
        "id": "NAFmZ9fmiARU"
      }
    },
    {
      "cell_type": "code",
      "source": [
        "df['resolution_x'] = df['resolution (px)'].apply(lambda x: x.split(' x ')[0]).astype(int)\n",
        "df['resolution_y'] = df['resolution (px)'].apply(lambda x: x.split(' x ')[1]).astype(int)\n",
        "df = df.drop(columns=['resolution (px)'])"
      ],
      "metadata": {
        "id": "YIy_MAgsiD2X"
      },
      "execution_count": null,
      "outputs": []
    },
    {
      "cell_type": "markdown",
      "source": [
        "### numerical columns"
      ],
      "metadata": {
        "id": "utbddzQaiYP5"
      }
    },
    {
      "cell_type": "code",
      "source": [
        "numerical_cols = ['CPU cores', 'RAM size', 'CPU clock speed (GHz)','drive memory size (GB)', 'screen size', 'resolution_x', 'resolution_y']\n",
        "numerical_df = df[numerical_cols].astype(float)"
      ],
      "metadata": {
        "id": "yVze_E9lilgc"
      },
      "execution_count": null,
      "outputs": []
    },
    {
      "cell_type": "markdown",
      "source": [
        "### use `get_dummies()` for categorical columns"
      ],
      "metadata": {
        "id": "Ws_N0_hVit-j"
      }
    },
    {
      "cell_type": "code",
      "source": [
        "dummies_df = df['operating system'].str.join('|').str.get_dummies()"
      ],
      "metadata": {
        "id": "EOaAZPXQiv1x"
      },
      "execution_count": null,
      "outputs": []
    },
    {
      "cell_type": "code",
      "source": [
        "dummy_cols = ['drive type', 'RAM type', 'CPU model']\n",
        "for col in dummy_cols:\n",
        "    col_dummies_df = df[col].str.get_dummies()\n",
        "    dummies_df = pd.concat([dummies_df, col_dummies_df], axis=1)"
      ],
      "metadata": {
        "id": "g_ATCKa4izAN"
      },
      "execution_count": null,
      "outputs": []
    },
    {
      "cell_type": "code",
      "source": [
        "label_col = ['buynow_price']\n",
        "categorical_columns = [col for col in df.columns.to_list() if col not in compact_cols + label_col + numerical_cols + ['operating system'] + dummy_cols]"
      ],
      "metadata": {
        "id": "LT8jqESdjPZY"
      },
      "execution_count": null,
      "outputs": []
    },
    {
      "cell_type": "code",
      "source": [
        "categorical_df = pd.get_dummies(df[categorical_columns])"
      ],
      "metadata": {
        "id": "yCkd1laHjQg0"
      },
      "execution_count": null,
      "outputs": []
    },
    {
      "cell_type": "code",
      "source": [
        "unique_cols = list()\n",
        "for col in compact_cols:\n",
        "    unique_cols += compact_dict[col]\n",
        "compact_df = pd.DataFrame(columns = unique_cols , index=df.index, data=np.zeros((df.shape[0], len(unique_cols))))"
      ],
      "metadata": {
        "id": "QZvpK1k0jT7L"
      },
      "execution_count": null,
      "outputs": []
    },
    {
      "cell_type": "code",
      "source": [
        "for col, unique_list in compact_dict.items():\n",
        "    for unique in unique_list:\n",
        "        compact_df[unique] = df[col].apply(lambda x: 1 if unique in x else 0)"
      ],
      "metadata": {
        "id": "4Gtt4RUcjWNw"
      },
      "execution_count": null,
      "outputs": []
    },
    {
      "cell_type": "markdown",
      "source": [
        "## `new_df` now contains all the preprocessed columns"
      ],
      "metadata": {
        "id": "6nD0KAh0jeMC"
      }
    },
    {
      "cell_type": "code",
      "source": [
        "new_df = pd.concat([categorical_df, numerical_df, compact_df, dummies_df],axis=1)\n",
        "new_df.head(5)"
      ],
      "metadata": {
        "colab": {
          "base_uri": "https://localhost:8080/",
          "height": 351
        },
        "id": "FFexdAi8jbCg",
        "outputId": "97d027f3-7eeb-40c0-bb25-43ce24bb6c9b"
      },
      "execution_count": null,
      "outputs": [
        {
          "output_type": "execute_result",
          "data": {
            "text/plain": [
              "      graphic card type_dedicated graphics  \\\n",
              "7233                                     1   \n",
              "5845                                     1   \n",
              "5897                                     0   \n",
              "4870                                     0   \n",
              "2498                                     1   \n",
              "\n",
              "      graphic card type_integrated graphics  warranty_producer warranty  \\\n",
              "7233                                      0                           1   \n",
              "5845                                      0                           0   \n",
              "5897                                      1                           1   \n",
              "4870                                      1                           1   \n",
              "2498                                      0                           1   \n",
              "\n",
              "      warranty_seller warranty  CPU cores  RAM size  CPU clock speed (GHz)  \\\n",
              "7233                         0        4.0      32.0                    2.6   \n",
              "5845                         1        4.0       8.0                    2.4   \n",
              "5897                         0        4.0       8.0                    1.2   \n",
              "4870                         0        2.0       8.0                    2.0   \n",
              "2498                         0        4.0       8.0                    2.4   \n",
              "\n",
              "      drive memory size (GB)  screen size  resolution_x  ...  \\\n",
              "7233                  1250.0         17.0        1920.0  ...   \n",
              "5845                   256.0         15.0        1366.0  ...   \n",
              "5897                   256.0         12.0        2560.0  ...   \n",
              "4870                  1000.0         15.0        1366.0  ...   \n",
              "2498                  1000.0         17.0        1920.0  ...   \n",
              "\n",
              "      intel celeron dual-core  intel celeron m  intel celeron quad core   \\\n",
              "7233                        0                0                         0   \n",
              "5845                        0                0                         0   \n",
              "5897                        0                0                         0   \n",
              "4870                        0                0                         0   \n",
              "2498                        0                0                         0   \n",
              "\n",
              "      intel core i3  intel core i5  intel core i7  intel core m  \\\n",
              "7233              0              0              1             0   \n",
              "5845              0              0              1             0   \n",
              "5897              0              0              0             0   \n",
              "4870              1              0              0             0   \n",
              "2498              0              0              1             0   \n",
              "\n",
              "      intel pentium dual-core  intel pentium quad-core   other CPU  \n",
              "7233                        0                         0          0  \n",
              "5845                        0                         0          0  \n",
              "5897                        0                         0          1  \n",
              "4870                        0                         0          0  \n",
              "2498                        0                         0          0  \n",
              "\n",
              "[5 rows x 68 columns]"
            ],
            "text/html": [
              "\n",
              "  <div id=\"df-8955c12f-768d-423a-a9d0-dae818c6668a\">\n",
              "    <div class=\"colab-df-container\">\n",
              "      <div>\n",
              "<style scoped>\n",
              "    .dataframe tbody tr th:only-of-type {\n",
              "        vertical-align: middle;\n",
              "    }\n",
              "\n",
              "    .dataframe tbody tr th {\n",
              "        vertical-align: top;\n",
              "    }\n",
              "\n",
              "    .dataframe thead th {\n",
              "        text-align: right;\n",
              "    }\n",
              "</style>\n",
              "<table border=\"1\" class=\"dataframe\">\n",
              "  <thead>\n",
              "    <tr style=\"text-align: right;\">\n",
              "      <th></th>\n",
              "      <th>graphic card type_dedicated graphics</th>\n",
              "      <th>graphic card type_integrated graphics</th>\n",
              "      <th>warranty_producer warranty</th>\n",
              "      <th>warranty_seller warranty</th>\n",
              "      <th>CPU cores</th>\n",
              "      <th>RAM size</th>\n",
              "      <th>CPU clock speed (GHz)</th>\n",
              "      <th>drive memory size (GB)</th>\n",
              "      <th>screen size</th>\n",
              "      <th>resolution_x</th>\n",
              "      <th>...</th>\n",
              "      <th>intel celeron dual-core</th>\n",
              "      <th>intel celeron m</th>\n",
              "      <th>intel celeron quad core</th>\n",
              "      <th>intel core i3</th>\n",
              "      <th>intel core i5</th>\n",
              "      <th>intel core i7</th>\n",
              "      <th>intel core m</th>\n",
              "      <th>intel pentium dual-core</th>\n",
              "      <th>intel pentium quad-core</th>\n",
              "      <th>other CPU</th>\n",
              "    </tr>\n",
              "  </thead>\n",
              "  <tbody>\n",
              "    <tr>\n",
              "      <th>7233</th>\n",
              "      <td>1</td>\n",
              "      <td>0</td>\n",
              "      <td>1</td>\n",
              "      <td>0</td>\n",
              "      <td>4.0</td>\n",
              "      <td>32.0</td>\n",
              "      <td>2.6</td>\n",
              "      <td>1250.0</td>\n",
              "      <td>17.0</td>\n",
              "      <td>1920.0</td>\n",
              "      <td>...</td>\n",
              "      <td>0</td>\n",
              "      <td>0</td>\n",
              "      <td>0</td>\n",
              "      <td>0</td>\n",
              "      <td>0</td>\n",
              "      <td>1</td>\n",
              "      <td>0</td>\n",
              "      <td>0</td>\n",
              "      <td>0</td>\n",
              "      <td>0</td>\n",
              "    </tr>\n",
              "    <tr>\n",
              "      <th>5845</th>\n",
              "      <td>1</td>\n",
              "      <td>0</td>\n",
              "      <td>0</td>\n",
              "      <td>1</td>\n",
              "      <td>4.0</td>\n",
              "      <td>8.0</td>\n",
              "      <td>2.4</td>\n",
              "      <td>256.0</td>\n",
              "      <td>15.0</td>\n",
              "      <td>1366.0</td>\n",
              "      <td>...</td>\n",
              "      <td>0</td>\n",
              "      <td>0</td>\n",
              "      <td>0</td>\n",
              "      <td>0</td>\n",
              "      <td>0</td>\n",
              "      <td>1</td>\n",
              "      <td>0</td>\n",
              "      <td>0</td>\n",
              "      <td>0</td>\n",
              "      <td>0</td>\n",
              "    </tr>\n",
              "    <tr>\n",
              "      <th>5897</th>\n",
              "      <td>0</td>\n",
              "      <td>1</td>\n",
              "      <td>1</td>\n",
              "      <td>0</td>\n",
              "      <td>4.0</td>\n",
              "      <td>8.0</td>\n",
              "      <td>1.2</td>\n",
              "      <td>256.0</td>\n",
              "      <td>12.0</td>\n",
              "      <td>2560.0</td>\n",
              "      <td>...</td>\n",
              "      <td>0</td>\n",
              "      <td>0</td>\n",
              "      <td>0</td>\n",
              "      <td>0</td>\n",
              "      <td>0</td>\n",
              "      <td>0</td>\n",
              "      <td>0</td>\n",
              "      <td>0</td>\n",
              "      <td>0</td>\n",
              "      <td>1</td>\n",
              "    </tr>\n",
              "    <tr>\n",
              "      <th>4870</th>\n",
              "      <td>0</td>\n",
              "      <td>1</td>\n",
              "      <td>1</td>\n",
              "      <td>0</td>\n",
              "      <td>2.0</td>\n",
              "      <td>8.0</td>\n",
              "      <td>2.0</td>\n",
              "      <td>1000.0</td>\n",
              "      <td>15.0</td>\n",
              "      <td>1366.0</td>\n",
              "      <td>...</td>\n",
              "      <td>0</td>\n",
              "      <td>0</td>\n",
              "      <td>0</td>\n",
              "      <td>1</td>\n",
              "      <td>0</td>\n",
              "      <td>0</td>\n",
              "      <td>0</td>\n",
              "      <td>0</td>\n",
              "      <td>0</td>\n",
              "      <td>0</td>\n",
              "    </tr>\n",
              "    <tr>\n",
              "      <th>2498</th>\n",
              "      <td>1</td>\n",
              "      <td>0</td>\n",
              "      <td>1</td>\n",
              "      <td>0</td>\n",
              "      <td>4.0</td>\n",
              "      <td>8.0</td>\n",
              "      <td>2.4</td>\n",
              "      <td>1000.0</td>\n",
              "      <td>17.0</td>\n",
              "      <td>1920.0</td>\n",
              "      <td>...</td>\n",
              "      <td>0</td>\n",
              "      <td>0</td>\n",
              "      <td>0</td>\n",
              "      <td>0</td>\n",
              "      <td>0</td>\n",
              "      <td>1</td>\n",
              "      <td>0</td>\n",
              "      <td>0</td>\n",
              "      <td>0</td>\n",
              "      <td>0</td>\n",
              "    </tr>\n",
              "  </tbody>\n",
              "</table>\n",
              "<p>5 rows × 68 columns</p>\n",
              "</div>\n",
              "      <button class=\"colab-df-convert\" onclick=\"convertToInteractive('df-8955c12f-768d-423a-a9d0-dae818c6668a')\"\n",
              "              title=\"Convert this dataframe to an interactive table.\"\n",
              "              style=\"display:none;\">\n",
              "        \n",
              "  <svg xmlns=\"http://www.w3.org/2000/svg\" height=\"24px\"viewBox=\"0 0 24 24\"\n",
              "       width=\"24px\">\n",
              "    <path d=\"M0 0h24v24H0V0z\" fill=\"none\"/>\n",
              "    <path d=\"M18.56 5.44l.94 2.06.94-2.06 2.06-.94-2.06-.94-.94-2.06-.94 2.06-2.06.94zm-11 1L8.5 8.5l.94-2.06 2.06-.94-2.06-.94L8.5 2.5l-.94 2.06-2.06.94zm10 10l.94 2.06.94-2.06 2.06-.94-2.06-.94-.94-2.06-.94 2.06-2.06.94z\"/><path d=\"M17.41 7.96l-1.37-1.37c-.4-.4-.92-.59-1.43-.59-.52 0-1.04.2-1.43.59L10.3 9.45l-7.72 7.72c-.78.78-.78 2.05 0 2.83L4 21.41c.39.39.9.59 1.41.59.51 0 1.02-.2 1.41-.59l7.78-7.78 2.81-2.81c.8-.78.8-2.07 0-2.86zM5.41 20L4 18.59l7.72-7.72 1.47 1.35L5.41 20z\"/>\n",
              "  </svg>\n",
              "      </button>\n",
              "      \n",
              "  <style>\n",
              "    .colab-df-container {\n",
              "      display:flex;\n",
              "      flex-wrap:wrap;\n",
              "      gap: 12px;\n",
              "    }\n",
              "\n",
              "    .colab-df-convert {\n",
              "      background-color: #E8F0FE;\n",
              "      border: none;\n",
              "      border-radius: 50%;\n",
              "      cursor: pointer;\n",
              "      display: none;\n",
              "      fill: #1967D2;\n",
              "      height: 32px;\n",
              "      padding: 0 0 0 0;\n",
              "      width: 32px;\n",
              "    }\n",
              "\n",
              "    .colab-df-convert:hover {\n",
              "      background-color: #E2EBFA;\n",
              "      box-shadow: 0px 1px 2px rgba(60, 64, 67, 0.3), 0px 1px 3px 1px rgba(60, 64, 67, 0.15);\n",
              "      fill: #174EA6;\n",
              "    }\n",
              "\n",
              "    [theme=dark] .colab-df-convert {\n",
              "      background-color: #3B4455;\n",
              "      fill: #D2E3FC;\n",
              "    }\n",
              "\n",
              "    [theme=dark] .colab-df-convert:hover {\n",
              "      background-color: #434B5C;\n",
              "      box-shadow: 0px 1px 3px 1px rgba(0, 0, 0, 0.15);\n",
              "      filter: drop-shadow(0px 1px 2px rgba(0, 0, 0, 0.3));\n",
              "      fill: #FFFFFF;\n",
              "    }\n",
              "  </style>\n",
              "\n",
              "      <script>\n",
              "        const buttonEl =\n",
              "          document.querySelector('#df-8955c12f-768d-423a-a9d0-dae818c6668a button.colab-df-convert');\n",
              "        buttonEl.style.display =\n",
              "          google.colab.kernel.accessAllowed ? 'block' : 'none';\n",
              "\n",
              "        async function convertToInteractive(key) {\n",
              "          const element = document.querySelector('#df-8955c12f-768d-423a-a9d0-dae818c6668a');\n",
              "          const dataTable =\n",
              "            await google.colab.kernel.invokeFunction('convertToInteractive',\n",
              "                                                     [key], {});\n",
              "          if (!dataTable) return;\n",
              "\n",
              "          const docLinkHtml = 'Like what you see? Visit the ' +\n",
              "            '<a target=\"_blank\" href=https://colab.research.google.com/notebooks/data_table.ipynb>data table notebook</a>'\n",
              "            + ' to learn more about interactive tables.';\n",
              "          element.innerHTML = '';\n",
              "          dataTable['output_type'] = 'display_data';\n",
              "          await google.colab.output.renderOutput(dataTable, element);\n",
              "          const docLink = document.createElement('div');\n",
              "          docLink.innerHTML = docLinkHtml;\n",
              "          element.appendChild(docLink);\n",
              "        }\n",
              "      </script>\n",
              "    </div>\n",
              "  </div>\n",
              "  "
            ]
          },
          "metadata": {},
          "execution_count": 41
        }
      ]
    },
    {
      "cell_type": "markdown",
      "source": [
        "## Remove Multicollinearity \n",
        "Remove features with VIF(Variance Inflation Factor) score above 20"
      ],
      "metadata": {
        "id": "DYB-9bVZjsPi"
      }
    },
    {
      "cell_type": "code",
      "source": [
        "def compute_vif(features):\n",
        "    vif_data = pd.DataFrame()\n",
        "    vif_data[\"feature\"] = features\n",
        "    vif_data[\"VIF\"] = [variance_inflation_factor(new_df[features].values, i) for i in range(len(features))]\n",
        "    return vif_data.sort_values(by=['VIF']).reset_index(drop=True)"
      ],
      "metadata": {
        "id": "p6sWm1J3kBdT"
      },
      "execution_count": null,
      "outputs": []
    },
    {
      "cell_type": "code",
      "source": [
        "features = new_df.columns.to_list()\n",
        "vif_data = compute_vif(features)"
      ],
      "metadata": {
        "id": "nBznyrLBkHJb"
      },
      "execution_count": null,
      "outputs": []
    },
    {
      "cell_type": "code",
      "source": [
        "multicollinearity = True\n",
        "\n",
        "while multicollinearity:\n",
        "    highest_vif_feature = vif_data['feature'].values.tolist()[-1]\n",
        "    print(\"Remove feature:\", highest_vif_feature)\n",
        "    features.remove(highest_vif_feature)\n",
        "    vif_data = compute_vif(features)\n",
        "    multicollinearity = False if len(vif_data[vif_data.VIF > 20]) == 0 else True\n",
        "\n",
        "selected_features = vif_data['feature'].values.tolist()"
      ],
      "metadata": {
        "colab": {
          "base_uri": "https://localhost:8080/"
        },
        "id": "3Bd-H_O0kRWs",
        "outputId": "814710b2-a7a9-43ed-9bc4-193ce3caf6f2"
      },
      "execution_count": null,
      "outputs": [
        {
          "output_type": "stream",
          "name": "stdout",
          "text": [
            "Remove feature: other CPU\n"
          ]
        },
        {
          "output_type": "stream",
          "name": "stderr",
          "text": [
            "/usr/local/lib/python3.9/dist-packages/statsmodels/stats/outliers_influence.py:195: RuntimeWarning: divide by zero encountered in double_scalars\n",
            "  vif = 1. / (1. - r_squared_i)\n",
            "/usr/local/lib/python3.9/dist-packages/statsmodels/stats/outliers_influence.py:195: RuntimeWarning: divide by zero encountered in double_scalars\n",
            "  vif = 1. / (1. - r_squared_i)\n",
            "/usr/local/lib/python3.9/dist-packages/statsmodels/stats/outliers_influence.py:195: RuntimeWarning: divide by zero encountered in double_scalars\n",
            "  vif = 1. / (1. - r_squared_i)\n",
            "/usr/local/lib/python3.9/dist-packages/statsmodels/stats/outliers_influence.py:195: RuntimeWarning: divide by zero encountered in double_scalars\n",
            "  vif = 1. / (1. - r_squared_i)\n",
            "/usr/local/lib/python3.9/dist-packages/statsmodels/stats/outliers_influence.py:195: RuntimeWarning: divide by zero encountered in double_scalars\n",
            "  vif = 1. / (1. - r_squared_i)\n",
            "/usr/local/lib/python3.9/dist-packages/statsmodels/stats/outliers_influence.py:195: RuntimeWarning: divide by zero encountered in double_scalars\n",
            "  vif = 1. / (1. - r_squared_i)\n",
            "/usr/local/lib/python3.9/dist-packages/statsmodels/stats/outliers_influence.py:195: RuntimeWarning: divide by zero encountered in double_scalars\n",
            "  vif = 1. / (1. - r_squared_i)\n",
            "/usr/local/lib/python3.9/dist-packages/statsmodels/stats/outliers_influence.py:195: RuntimeWarning: divide by zero encountered in double_scalars\n",
            "  vif = 1. / (1. - r_squared_i)\n",
            "/usr/local/lib/python3.9/dist-packages/statsmodels/stats/outliers_influence.py:195: RuntimeWarning: divide by zero encountered in double_scalars\n",
            "  vif = 1. / (1. - r_squared_i)\n",
            "/usr/local/lib/python3.9/dist-packages/statsmodels/stats/outliers_influence.py:195: RuntimeWarning: divide by zero encountered in double_scalars\n",
            "  vif = 1. / (1. - r_squared_i)\n",
            "/usr/local/lib/python3.9/dist-packages/statsmodels/stats/outliers_influence.py:195: RuntimeWarning: divide by zero encountered in double_scalars\n",
            "  vif = 1. / (1. - r_squared_i)\n",
            "/usr/local/lib/python3.9/dist-packages/statsmodels/stats/outliers_influence.py:195: RuntimeWarning: divide by zero encountered in double_scalars\n",
            "  vif = 1. / (1. - r_squared_i)\n"
          ]
        },
        {
          "output_type": "stream",
          "name": "stdout",
          "text": [
            "Remove feature: graphic card type_dedicated graphics\n"
          ]
        },
        {
          "output_type": "stream",
          "name": "stderr",
          "text": [
            "/usr/local/lib/python3.9/dist-packages/statsmodels/stats/outliers_influence.py:195: RuntimeWarning: divide by zero encountered in double_scalars\n",
            "  vif = 1. / (1. - r_squared_i)\n",
            "/usr/local/lib/python3.9/dist-packages/statsmodels/stats/outliers_influence.py:195: RuntimeWarning: divide by zero encountered in double_scalars\n",
            "  vif = 1. / (1. - r_squared_i)\n",
            "/usr/local/lib/python3.9/dist-packages/statsmodels/stats/outliers_influence.py:195: RuntimeWarning: divide by zero encountered in double_scalars\n",
            "  vif = 1. / (1. - r_squared_i)\n",
            "/usr/local/lib/python3.9/dist-packages/statsmodels/stats/outliers_influence.py:195: RuntimeWarning: divide by zero encountered in double_scalars\n",
            "  vif = 1. / (1. - r_squared_i)\n",
            "/usr/local/lib/python3.9/dist-packages/statsmodels/stats/outliers_influence.py:195: RuntimeWarning: divide by zero encountered in double_scalars\n",
            "  vif = 1. / (1. - r_squared_i)\n",
            "/usr/local/lib/python3.9/dist-packages/statsmodels/stats/outliers_influence.py:195: RuntimeWarning: divide by zero encountered in double_scalars\n",
            "  vif = 1. / (1. - r_squared_i)\n",
            "/usr/local/lib/python3.9/dist-packages/statsmodels/stats/outliers_influence.py:195: RuntimeWarning: divide by zero encountered in double_scalars\n",
            "  vif = 1. / (1. - r_squared_i)\n",
            "/usr/local/lib/python3.9/dist-packages/statsmodels/stats/outliers_influence.py:195: RuntimeWarning: divide by zero encountered in double_scalars\n",
            "  vif = 1. / (1. - r_squared_i)\n",
            "/usr/local/lib/python3.9/dist-packages/statsmodels/stats/outliers_influence.py:195: RuntimeWarning: divide by zero encountered in double_scalars\n",
            "  vif = 1. / (1. - r_squared_i)\n",
            "/usr/local/lib/python3.9/dist-packages/statsmodels/stats/outliers_influence.py:195: RuntimeWarning: divide by zero encountered in double_scalars\n",
            "  vif = 1. / (1. - r_squared_i)\n"
          ]
        },
        {
          "output_type": "stream",
          "name": "stdout",
          "text": [
            "Remove feature: ssd\n"
          ]
        },
        {
          "output_type": "stream",
          "name": "stderr",
          "text": [
            "/usr/local/lib/python3.9/dist-packages/statsmodels/stats/outliers_influence.py:195: RuntimeWarning: divide by zero encountered in double_scalars\n",
            "  vif = 1. / (1. - r_squared_i)\n",
            "/usr/local/lib/python3.9/dist-packages/statsmodels/stats/outliers_influence.py:195: RuntimeWarning: divide by zero encountered in double_scalars\n",
            "  vif = 1. / (1. - r_squared_i)\n",
            "/usr/local/lib/python3.9/dist-packages/statsmodels/stats/outliers_influence.py:195: RuntimeWarning: divide by zero encountered in double_scalars\n",
            "  vif = 1. / (1. - r_squared_i)\n",
            "/usr/local/lib/python3.9/dist-packages/statsmodels/stats/outliers_influence.py:195: RuntimeWarning: divide by zero encountered in double_scalars\n",
            "  vif = 1. / (1. - r_squared_i)\n",
            "/usr/local/lib/python3.9/dist-packages/statsmodels/stats/outliers_influence.py:195: RuntimeWarning: divide by zero encountered in double_scalars\n",
            "  vif = 1. / (1. - r_squared_i)\n"
          ]
        },
        {
          "output_type": "stream",
          "name": "stdout",
          "text": [
            "Remove feature: ddr3\n",
            "Remove feature: warranty_producer warranty\n",
            "Remove feature: resolution_x\n",
            "Remove feature: touchpad\n",
            "Remove feature: screen size\n",
            "Remove feature: camera\n",
            "Remove feature: CPU clock speed (GHz)\n",
            "Remove feature: windows 10 home\n",
            "Remove feature: keyboard\n",
            "Remove feature: intel core i7\n",
            "Remove feature: bluetooth\n",
            "Remove feature: CPU cores\n",
            "Remove feature: microphone\n"
          ]
        }
      ]
    },
    {
      "cell_type": "markdown",
      "source": [
        "## Train Test Val split"
      ],
      "metadata": {
        "id": "SkNdfYq8kyTF"
      }
    },
    {
      "cell_type": "code",
      "source": [
        "train_indeces = train_df.dropna().index\n",
        "val_indeces = val_df.dropna().index\n",
        "test_indeces = test_df.dropna().index"
      ],
      "metadata": {
        "id": "6LCv40D5k1ce"
      },
      "execution_count": null,
      "outputs": []
    },
    {
      "cell_type": "code",
      "source": [
        "train_df = new_df.loc[train_indeces]\n",
        "val_df = new_df.loc[val_indeces]\n",
        "test_df = new_df.loc[test_indeces]\n",
        "\n",
        "X_train, X_val, X_test = train_df[selected_features].to_numpy(), val_df[selected_features].to_numpy(), test_df[selected_features].to_numpy()\n",
        "y_train, y_val, y_test = df.loc[train_indeces][label_col].to_numpy().ravel(), df.loc[val_indeces][label_col].to_numpy().ravel(), df.loc[test_indeces][label_col].to_numpy().ravel()"
      ],
      "metadata": {
        "id": "BlGB4Cfmk3nA"
      },
      "execution_count": null,
      "outputs": []
    },
    {
      "cell_type": "code",
      "source": [
        "X_train.shape, y_train.shape"
      ],
      "metadata": {
        "colab": {
          "base_uri": "https://localhost:8080/"
        },
        "id": "P0HHzo0UlAh3",
        "outputId": "bee5d92f-e3be-4e3e-9e10-8041478d6fb1"
      },
      "execution_count": null,
      "outputs": [
        {
          "output_type": "execute_result",
          "data": {
            "text/plain": [
              "((3694, 52), (3694,))"
            ]
          },
          "metadata": {},
          "execution_count": 51
        }
      ]
    },
    {
      "cell_type": "markdown",
      "source": [
        "# Traditional Machine Learning Models"
      ],
      "metadata": {
        "id": "RTwdasaokdg_"
      }
    },
    {
      "cell_type": "code",
      "source": [
        "def rmse(y_true, y_pred): \n",
        "    return mean_squared_error(y_true, y_pred, squared=False)\n",
        "\n",
        "\n",
        "def regression(regressor_name, regressor):\n",
        "#     alternative scaler \n",
        "#     pipe = make_pipeline(StandardScaler(), regressor)\n",
        "    pipe = make_pipeline(MaxAbsScaler(), regressor)\n",
        "    pipe.fit(X_train, y_train) \n",
        "    predicted = pipe.predict(X_test)\n",
        "    rmse_val = rmse(y_test, predicted)\n",
        "    print(regressor_name, ':', rmse_val)\n",
        "    pred_df[regressor_name+'_Pred'] = predicted\n",
        "    plt.figure(regressor_name)\n",
        "    plt.title(regressor_name)\n",
        "    plt.xlabel('predicted')\n",
        "    plt.ylabel('actual')\n",
        "    sns.regplot(y=y_test,x=predicted)\n",
        "    \n",
        "regressors = {\n",
        "    'Linear' : LinearRegression(),\n",
        "    'MLP': MLPRegressor(random_state=42, max_iter=500, learning_rate=\"constant\", learning_rate_init=0.6),\n",
        "    'DecisionTree': DecisionTreeRegressor(max_depth=15, random_state=42),\n",
        "    'RandomForest': RandomForestRegressor(random_state=42),\n",
        "    'GradientBoosting': GradientBoostingRegressor(random_state=42, criterion='squared_error',\n",
        "                                                  loss='squared_error',learning_rate=0.6, warm_start=True),\n",
        "    'ExtraTrees': ExtraTreesRegressor(n_estimators=100, random_state=42),\n",
        "}\n",
        "\n",
        "pred_df = pd.DataFrame(columns =[\"Actual\"])\n",
        "pred_df[\"Actual\"] = y_test\n",
        "\n",
        "for key in regressors.keys():\n",
        "    regression(key, regressors[key])"
      ],
      "metadata": {
        "colab": {
          "base_uri": "https://localhost:8080/",
          "height": 1000
        },
        "id": "tQQtOzLXkxQR",
        "outputId": "8bbd5a10-78b2-4736-8351-7dd45982c721"
      },
      "execution_count": null,
      "outputs": [
        {
          "output_type": "stream",
          "name": "stdout",
          "text": [
            "Linear : 64038581464238.25\n",
            "MLP : 719.6561002119159\n",
            "DecisionTree : 656.6811883268169\n",
            "RandomForest : 557.0123635130183\n",
            "GradientBoosting : 526.9818640941238\n",
            "ExtraTrees : 577.5740215020353\n"
          ]
        },
        {
          "output_type": "display_data",
          "data": {
            "text/plain": [
              "<Figure size 432x288 with 1 Axes>"
            ],
            "image/png": "[encoded data removed]"
          },
          "metadata": {
            "needs_background": "light"
          }
        },
        {
          "output_type": "display_data",
          "data": {
            "text/plain": [
              "<Figure size 432x288 with 1 Axes>"
            ],
            "image/png": "[encoded data removed]"
          },
          "metadata": {
            "needs_background": "light"
          }
        },
        {
          "output_type": "display_data",
          "data": {
            "text/plain": [
              "<Figure size 432x288 with 1 Axes>"
            ],
            "image/png": "[encoded data removed]"
          },
          "metadata": {
            "needs_background": "light"
          }
        },
        {
          "output_type": "display_data",
          "data": {
            "text/plain": [
              "<Figure size 432x288 with 1 Axes>"
            ],
            "image/png": "[encoded data removed]"
          },
          "metadata": {
            "needs_background": "light"
          }
        },
        {
          "output_type": "display_data",
          "data": {
            "text/plain": [
              "<Figure size 432x288 with 1 Axes>"
            ],
            "image/png": "[encoded data removed]"
          },
          "metadata": {
            "needs_background": "light"
          }
        },
        {
          "output_type": "display_data",
          "data": {
            "text/plain": [
              "<Figure size 432x288 with 1 Axes>"
            ],
            "image/png": "[encoded data removed]"
          },
          "metadata": {
            "needs_background": "light"
          }
        }
      ]
    },
    {
      "cell_type": "markdown",
      "source": [
        "# Voting Regressor"
      ],
      "metadata": {
        "id": "3OU1H5KQkx4C"
      }
    },
    {
      "cell_type": "code",
      "source": [
        "from sklearn.ensemble import VotingRegressor\n",
        "\n",
        "# classifiers\n",
        "reg1 = regressors[\"GradientBoosting\"]\n",
        "reg2 = regressors[\"ExtraTrees\"]\n",
        "reg3 = regressors[\"RandomForest\"]\n",
        "\n",
        "# take the highest performed three models and combine them in a voting mechanism\n",
        "# assign weights to their predictions and create new regressor\n",
        "# it is possible to try with different weights \n",
        "regression(\"Voting\", VotingRegressor([(\"gb\", reg1), (\"et\", reg2), (\"rf\", reg3)], weights=[0.4, 0.35, 0.25]))"
      ],
      "metadata": {
        "colab": {
          "base_uri": "https://localhost:8080/",
          "height": 312
        },
        "id": "5c070KiElgwx",
        "outputId": "fe8f2451-775d-4902-b5e7-3d00c718899b"
      },
      "execution_count": null,
      "outputs": [
        {
          "output_type": "stream",
          "name": "stdout",
          "text": [
            "Voting : 504.99219187047\n"
          ]
        },
        {
          "output_type": "display_data",
          "data": {
            "text/plain": [
              "<Figure size 432x288 with 1 Axes>"
            ],
            "image/png": "[encoded data removed]"
          },
          "metadata": {
            "needs_background": "light"
          }
        }
      ]
    }
  ]
}